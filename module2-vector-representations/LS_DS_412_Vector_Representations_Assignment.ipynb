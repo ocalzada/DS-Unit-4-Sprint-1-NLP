{
 "cells": [
  {
   "cell_type": "markdown",
   "metadata": {},
   "source": [
    "<img align=\"left\" src=\"https://lever-client-logos.s3.amazonaws.com/864372b1-534c-480e-acd5-9711f850815c-1524247202159.png\" width=200>\n",
    "<br></br>\n",
    "\n",
    "# Vector Representations\n",
    "## *Data Science Unit 4 Sprint 2 Assignment 2*"
   ]
  },
  {
   "cell_type": "code",
   "execution_count": 67,
   "metadata": {
    "colab": {
     "base_uri": "https://localhost:8080/",
     "height": 159
    },
    "colab_type": "code",
    "id": "hyj-f9FDcVFp",
    "outputId": "5dd045fe-6e4c-458c-e2fc-253c3da9c805"
   },
   "outputs": [],
   "source": [
    "'''Base stuff'''\n",
    "import os\n",
    "import re\n",
    "\n",
    "import string\n",
    "\n",
    "from sklearn.feature_extraction.text import CountVectorizer, TfidfVectorizer\n",
    "import matplotlib.pyplot as plt\n",
    "import pandas as pd\n",
    "import numpy as np\n",
    "import seaborn as sns\n",
    "import spacy\n",
    "\n",
    "from collections import Counter\n",
    "\n",
    "''' Gensim Stuff '''\n",
    "import gensim\n",
    "from gensim.utils import simple_preprocess\n",
    "from gensim.parsing.preprocessing import STOPWORDS\n",
    "from nltk.stem import SnowballStemmer"
   ]
  },
  {
   "cell_type": "markdown",
   "metadata": {
    "colab_type": "text",
    "id": "M7bcmqfGXrFG"
   },
   "source": [
    "## 1) *Optional:* Scrape 100 Job Listings that contain the title \"Data Scientist\" from indeed.com\n",
    "\n",
    "At a minimum your final dataframe of job listings should contain\n",
    "- Job Title\n",
    "- Job Description\n",
    "\n",
    "If you choose to not to scrape the data, there is a CSV with outdated data in the directory. Remeber, if you scrape Indeed, you're helping yourself find a job. ;)"
   ]
  },
  {
   "cell_type": "code",
   "execution_count": 68,
   "metadata": {},
   "outputs": [
    {
     "name": "stdout",
     "output_type": "stream",
     "text": [
      "https://www.indeed.com/jobs?q=data+scientist&l=Salt+Lake+City%2C+UT&start=00\n",
      "https://www.indeed.com/jobs?q=data+scientist&l=Salt+Lake+City%2C+UT&start=010\n",
      "https://www.indeed.com/jobs?q=data+scientist&l=Salt+Lake+City%2C+UT&start=020\n",
      "https://www.indeed.com/jobs?q=data+scientist&l=Salt+Lake+City%2C+UT&start=030\n",
      "https://www.indeed.com/jobs?q=data+scientist&l=Salt+Lake+City%2C+UT&start=040\n",
      "https://www.indeed.com/jobs?q=data+scientist&l=Salt+Lake+City%2C+UT&start=050\n",
      "https://www.indeed.com/jobs?q=data+scientist&l=Salt+Lake+City%2C+UT&start=060\n",
      "https://www.indeed.com/jobs?q=data+scientist&l=Salt+Lake+City%2C+UT&start=070\n",
      "https://www.indeed.com/jobs?q=data+scientist&l=Salt+Lake+City%2C+UT&start=080\n",
      "https://www.indeed.com/jobs?q=data+scientist&l=Salt+Lake+City%2C+UT&start=090\n"
     ]
    }
   ],
   "source": [
    "import bs4\n",
    "from bs4 import BeautifulSoup as bs\n",
    "import requests\n",
    "import pandas as pd\n",
    "\n",
    "job_df = pd.DataFrame([], columns=['title',\"description\"])\n",
    "\n",
    "def job_info(url):\n",
    "    \"\"\"Scrapes data from individual job posts\"\"\"\n",
    "    html_doc = requests.get(url)\n",
    "    soup = bs(html_doc.content, 'html.parser')\n",
    "    all_content = soup.find('div',class_='jobsearch-ViewJobLayout-jobDisplay icl-Grid-col icl-u-xs-span12 icl-u-lg-span7')\n",
    "    try:\n",
    "        title = all_content.find('h3').text.strip()\n",
    "    except:\n",
    "        title = np.NaN\n",
    "    try:\n",
    "        description = all_content.find('div',class_='jobsearch-jobDescriptionText').text.strip()\n",
    "    except:\n",
    "        description = np.NaN\n",
    "    df = pd.DataFrame({'title':[title],'description':[description]})\n",
    "    return(df)\n",
    "\n",
    "def job_links(url):\n",
    "    \"\"\"Collects the links for all the listing on a search results page.\"\"\"\n",
    "    html_doc = requests.get(url)\n",
    "    soup = bs(html_doc.content, 'html.parser')\n",
    "    all_content = soup.find_all('div',class_='title')\n",
    "    link_list = []\n",
    "    for i in all_content:\n",
    "        link = i.find('a', class_='jobtitle')['href']\n",
    "        link_list.append(f\"https://www.indeed.com{link}\")\n",
    " \n",
    "    return(link_list)\n",
    "\n",
    "for i in range(0,100,10):\n",
    "    #takes the indeed search link with the search parameters and iterates over the first 9 pages of results\n",
    "    #Note: q= the search query l= the location start= page number. Example: page 1 is 0, page 2 is 10, page 3 is 20\n",
    "    url = 'https://www.indeed.com/jobs?q=data+scientist&l=Salt+Lake+City%2C+UT&start=0'+str(i)\n",
    "    print(url)\n",
    "    jobs = job_links(url)\n",
    "    for job in jobs:\n",
    "        df = job_info(job)\n",
    "        job_df = job_df.append(df)"
   ]
  },
  {
   "cell_type": "code",
   "execution_count": 69,
   "metadata": {},
   "outputs": [
    {
     "name": "stdout",
     "output_type": "stream",
     "text": [
      "(170, 2)\n"
     ]
    },
    {
     "data": {
      "text/html": [
       "<div>\n",
       "<style scoped>\n",
       "    .dataframe tbody tr th:only-of-type {\n",
       "        vertical-align: middle;\n",
       "    }\n",
       "\n",
       "    .dataframe tbody tr th {\n",
       "        vertical-align: top;\n",
       "    }\n",
       "\n",
       "    .dataframe thead th {\n",
       "        text-align: right;\n",
       "    }\n",
       "</style>\n",
       "<table border=\"1\" class=\"dataframe\">\n",
       "  <thead>\n",
       "    <tr style=\"text-align: right;\">\n",
       "      <th></th>\n",
       "      <th>title</th>\n",
       "      <th>description</th>\n",
       "    </tr>\n",
       "  </thead>\n",
       "  <tbody>\n",
       "    <tr>\n",
       "      <th>0</th>\n",
       "      <td>Data Analyst-Statistical-Stf</td>\n",
       "      <td>Description:\\nAbout Us\\nBeing a part of Interm...</td>\n",
       "    </tr>\n",
       "    <tr>\n",
       "      <th>0</th>\n",
       "      <td>Data Scientist</td>\n",
       "      <td>Central Logic, a leading provider of innovativ...</td>\n",
       "    </tr>\n",
       "    <tr>\n",
       "      <th>0</th>\n",
       "      <td>Data Science Specialist USA</td>\n",
       "      <td>Note: This position is accepting applicants fo...</td>\n",
       "    </tr>\n",
       "    <tr>\n",
       "      <th>0</th>\n",
       "      <td>Quantitative Data Scientist</td>\n",
       "      <td>Identifies trends and problems through complex...</td>\n",
       "    </tr>\n",
       "    <tr>\n",
       "      <th>0</th>\n",
       "      <td>Data Scientist in Applied Artificial Intellige...</td>\n",
       "      <td>Data Scientist in Applied Artificial Intellige...</td>\n",
       "    </tr>\n",
       "  </tbody>\n",
       "</table>\n",
       "</div>"
      ],
      "text/plain": [
       "                                               title  \\\n",
       "0                       Data Analyst-Statistical-Stf   \n",
       "0                                     Data Scientist   \n",
       "0                        Data Science Specialist USA   \n",
       "0                        Quantitative Data Scientist   \n",
       "0  Data Scientist in Applied Artificial Intellige...   \n",
       "\n",
       "                                         description  \n",
       "0  Description:\\nAbout Us\\nBeing a part of Interm...  \n",
       "0  Central Logic, a leading provider of innovativ...  \n",
       "0  Note: This position is accepting applicants fo...  \n",
       "0  Identifies trends and problems through complex...  \n",
       "0  Data Scientist in Applied Artificial Intellige...  "
      ]
     },
     "execution_count": 69,
     "metadata": {},
     "output_type": "execute_result"
    }
   ],
   "source": [
    "print(job_df.shape)\n",
    "job_df.head()"
   ]
  },
  {
   "cell_type": "code",
   "execution_count": 70,
   "metadata": {},
   "outputs": [],
   "source": [
    "''' Cleaning text and preparing for NLP '''\n",
    "STOPWORDS = set(STOPWORDS).union(set(['the', 'aa', 'aaa', 'aaaaaa' ]))\n",
    "\n",
    "def tokenize(text): \n",
    "    return [token for token in simple_preprocess(text) if token not in STOPWORDS and len(token) >=3]\n",
    "\n",
    "''' Throwing in some regex cleaning just for good measure '''\n",
    "def clean(text):\n",
    "    text = re.sub(r\"[^A-Za-z0-9^,!.\\/'+-=]\", \" \", text)\n",
    "    text = re.sub(r\"what's\", \"what is \", text)\n",
    "    text = re.sub(r\"\\'s\", \" \", text)\n",
    "    text = re.sub(r\"\\'ve\", \" have \", text)\n",
    "    text = re.sub(r\"n't\", \" not \", text)\n",
    "    text = re.sub(r\"i'm\", \"i am \", text)\n",
    "    text = re.sub(r\"\\'re\", \" are \", text)\n",
    "    text = re.sub(r\"\\'d\", \" would \", text)\n",
    "    text = re.sub(r\"\\'ll\", \" will \", text)\n",
    "    text = re.sub(r\",\", \" \", text)\n",
    "    text = re.sub(r\"\\.\", \" \", text)\n",
    "    text = re.sub(r\"!\", \" ! \", text)\n",
    "    text = re.sub(r\"\\/\", \" \", text)\n",
    "    text = re.sub(r\"\\^\", \" ^ \", text)\n",
    "    text = re.sub(r\"\\+\", \" + \", text)\n",
    "    text = re.sub(r\"\\-\", \" - \", text)\n",
    "    text = re.sub(r\"\\=\", \" = \", text)\n",
    "    text = re.sub(r\"'\", \" \", text)\n",
    "    text = re.sub(r\"(\\d+)(k)\", r\"\\g<1>000\", text)\n",
    "    text = re.sub(r\":\", \" : \", text)\n",
    "    text = re.sub(r\" e g \", \" eg \", text)\n",
    "    text = re.sub(r\" b g \", \" bg \", text)\n",
    "    text = re.sub(r\" u s \", \" american \", text)\n",
    "    text = re.sub(r\"\\0s\", \"0\", text)\n",
    "    text = re.sub(r\" 9 11 \", \"911\", text)\n",
    "    text = re.sub(r\"e - mail\", \"email\", text)\n",
    "    text = re.sub(r\"j k\", \"jk\", text)\n",
    "    text = re.sub(r\"\\s{2,}\", \" \", text)\n",
    "    text = text.replace('\\n', '')\n",
    "    \n",
    "    text = text.split()\n",
    "    stemmer = SnowballStemmer('english')\n",
    "    stemmed_words = [stemmer.stem(word) for word in text]\n",
    "    text = \" \".join(stemmed_words)\n",
    "\n",
    "    return text"
   ]
  },
  {
   "cell_type": "code",
   "execution_count": 72,
   "metadata": {},
   "outputs": [],
   "source": [
    "df = job_df"
   ]
  },
  {
   "cell_type": "markdown",
   "metadata": {
    "colab_type": "text",
    "id": "5C4xFZNtX1m2"
   },
   "source": [
    "## 2) Use Spacy to tokenize / clean the listings "
   ]
  },
  {
   "cell_type": "code",
   "execution_count": 73,
   "metadata": {},
   "outputs": [
    {
     "data": {
      "text/html": [
       "<div>\n",
       "<style scoped>\n",
       "    .dataframe tbody tr th:only-of-type {\n",
       "        vertical-align: middle;\n",
       "    }\n",
       "\n",
       "    .dataframe tbody tr th {\n",
       "        vertical-align: top;\n",
       "    }\n",
       "\n",
       "    .dataframe thead th {\n",
       "        text-align: right;\n",
       "    }\n",
       "</style>\n",
       "<table border=\"1\" class=\"dataframe\">\n",
       "  <thead>\n",
       "    <tr style=\"text-align: right;\">\n",
       "      <th></th>\n",
       "      <th>title</th>\n",
       "      <th>description</th>\n",
       "      <th>tokens</th>\n",
       "    </tr>\n",
       "  </thead>\n",
       "  <tbody>\n",
       "    <tr>\n",
       "      <th>0</th>\n",
       "      <td>Data Analyst-Statistical-Stf</td>\n",
       "      <td>Description:\\nAbout Us\\nBeing a part of Interm...</td>\n",
       "      <td>[description, intermountain, healthcare, means...</td>\n",
       "    </tr>\n",
       "    <tr>\n",
       "      <th>0</th>\n",
       "      <td>Data Scientist</td>\n",
       "      <td>Central Logic, a leading provider of innovativ...</td>\n",
       "      <td>[central, logic, leading, provider, innovative...</td>\n",
       "    </tr>\n",
       "    <tr>\n",
       "      <th>0</th>\n",
       "      <td>Data Science Specialist USA</td>\n",
       "      <td>Note: This position is accepting applicants fo...</td>\n",
       "      <td>[note, position, accepting, applicants, new, y...</td>\n",
       "    </tr>\n",
       "    <tr>\n",
       "      <th>0</th>\n",
       "      <td>Quantitative Data Scientist</td>\n",
       "      <td>Identifies trends and problems through complex...</td>\n",
       "      <td>[identifies, trends, problems, complex, big, d...</td>\n",
       "    </tr>\n",
       "    <tr>\n",
       "      <th>0</th>\n",
       "      <td>Data Scientist in Applied Artificial Intellige...</td>\n",
       "      <td>Data Scientist in Applied Artificial Intellige...</td>\n",
       "      <td>[data, scientist, applied, artificial, intelli...</td>\n",
       "    </tr>\n",
       "  </tbody>\n",
       "</table>\n",
       "</div>"
      ],
      "text/plain": [
       "                                               title  \\\n",
       "0                       Data Analyst-Statistical-Stf   \n",
       "0                                     Data Scientist   \n",
       "0                        Data Science Specialist USA   \n",
       "0                        Quantitative Data Scientist   \n",
       "0  Data Scientist in Applied Artificial Intellige...   \n",
       "\n",
       "                                         description  \\\n",
       "0  Description:\\nAbout Us\\nBeing a part of Interm...   \n",
       "0  Central Logic, a leading provider of innovativ...   \n",
       "0  Note: This position is accepting applicants fo...   \n",
       "0  Identifies trends and problems through complex...   \n",
       "0  Data Scientist in Applied Artificial Intellige...   \n",
       "\n",
       "                                              tokens  \n",
       "0  [description, intermountain, healthcare, means...  \n",
       "0  [central, logic, leading, provider, innovative...  \n",
       "0  [note, position, accepting, applicants, new, y...  \n",
       "0  [identifies, trends, problems, complex, big, d...  \n",
       "0  [data, scientist, applied, artificial, intelli...  "
      ]
     },
     "execution_count": 73,
     "metadata": {},
     "output_type": "execute_result"
    }
   ],
   "source": [
    "df['tokens'] = df['description'].apply(tokenize, clean)\n",
    "df.head()"
   ]
  },
  {
   "cell_type": "markdown",
   "metadata": {
    "colab_type": "text",
    "id": "-lgCZNL_YycP"
   },
   "source": [
    "## 3) Use Scikit-Learn's CountVectorizer to get word counts for each listing."
   ]
  },
  {
   "cell_type": "code",
   "execution_count": 74,
   "metadata": {
    "colab": {},
    "colab_type": "code",
    "id": "X2PZ8Pj_YxcF"
   },
   "outputs": [],
   "source": [
    "##### Your Code Here #####\n",
    "vect = CountVectorizer()\n",
    "text = df['tokens'].astype(str)\n",
    "vect.fit(text)\n",
    "dtm = vect.transform(text)"
   ]
  },
  {
   "cell_type": "code",
   "execution_count": 76,
   "metadata": {},
   "outputs": [
    {
     "name": "stdout",
     "output_type": "stream",
     "text": [
      "  (0, 5)\t1\n",
      "  (0, 23)\t1\n",
      "  (0, 30)\t1\n",
      "  (0, 31)\t1\n",
      "  (0, 32)\t3\n",
      "  (0, 44)\t1\n",
      "  (0, 51)\t1\n",
      "  (0, 60)\t1\n",
      "  (0, 65)\t1\n",
      "  (0, 94)\t1\n",
      "  (0, 140)\t2\n",
      "  (0, 141)\t8\n",
      "  (0, 143)\t2\n",
      "  (0, 144)\t1\n",
      "  (0, 146)\t2\n",
      "  (0, 147)\t4\n",
      "  (0, 148)\t3\n",
      "  (0, 151)\t2\n",
      "  (0, 167)\t1\n",
      "  (0, 176)\t1\n",
      "  (0, 180)\t1\n",
      "  (0, 181)\t1\n",
      "  (0, 182)\t1\n",
      "  (0, 183)\t1\n",
      "  (0, 192)\t2\n",
      "  :\t:\n",
      "  (169, 3286)\t2\n",
      "  (169, 3295)\t1\n",
      "  (169, 3301)\t1\n",
      "  (169, 3303)\t1\n",
      "  (169, 3360)\t1\n",
      "  (169, 3419)\t1\n",
      "  (169, 3454)\t1\n",
      "  (169, 3475)\t1\n",
      "  (169, 3485)\t1\n",
      "  (169, 3488)\t1\n",
      "  (169, 3491)\t1\n",
      "  (169, 3507)\t1\n",
      "  (169, 3515)\t1\n",
      "  (169, 3541)\t1\n",
      "  (169, 3545)\t1\n",
      "  (169, 3558)\t1\n",
      "  (169, 3560)\t1\n",
      "  (169, 3582)\t1\n",
      "  (169, 3604)\t1\n",
      "  (169, 3609)\t1\n",
      "  (169, 3622)\t4\n",
      "  (169, 3637)\t1\n",
      "  (169, 3640)\t1\n",
      "  (169, 3642)\t1\n",
      "  (169, 3659)\t1\n"
     ]
    }
   ],
   "source": [
    "# words and word counts for every job listing.\n",
    "print(dtm)"
   ]
  },
  {
   "cell_type": "code",
   "execution_count": 77,
   "metadata": {},
   "outputs": [
    {
     "data": {
      "text/plain": [
       "'accordance'"
      ]
     },
     "execution_count": 77,
     "metadata": {},
     "output_type": "execute_result"
    }
   ],
   "source": [
    "#checking feature names\n",
    "feature_names = vect.get_feature_names()\n",
    "feature_names[25]"
   ]
  },
  {
   "cell_type": "code",
   "execution_count": 78,
   "metadata": {},
   "outputs": [
    {
     "data": {
      "text/html": [
       "<div>\n",
       "<style scoped>\n",
       "    .dataframe tbody tr th:only-of-type {\n",
       "        vertical-align: middle;\n",
       "    }\n",
       "\n",
       "    .dataframe tbody tr th {\n",
       "        vertical-align: top;\n",
       "    }\n",
       "\n",
       "    .dataframe thead th {\n",
       "        text-align: right;\n",
       "    }\n",
       "</style>\n",
       "<table border=\"1\" class=\"dataframe\">\n",
       "  <thead>\n",
       "    <tr style=\"text-align: right;\">\n",
       "      <th></th>\n",
       "      <th>aan</th>\n",
       "      <th>aaron</th>\n",
       "      <th>abbreviations</th>\n",
       "      <th>abilities</th>\n",
       "      <th>abilitiestrack</th>\n",
       "      <th>ability</th>\n",
       "      <th>able</th>\n",
       "      <th>abreast</th>\n",
       "      <th>absolutely</th>\n",
       "      <th>abstracts</th>\n",
       "      <th>...</th>\n",
       "      <th>yesterday</th>\n",
       "      <th>york</th>\n",
       "      <th>youtube</th>\n",
       "      <th>zealous</th>\n",
       "      <th>zealously</th>\n",
       "      <th>zero</th>\n",
       "      <th>zinamoukheiber</th>\n",
       "      <th>zions</th>\n",
       "      <th>zip</th>\n",
       "      <th>zones</th>\n",
       "    </tr>\n",
       "  </thead>\n",
       "  <tbody>\n",
       "    <tr>\n",
       "      <th>0</th>\n",
       "      <td>0</td>\n",
       "      <td>0</td>\n",
       "      <td>0</td>\n",
       "      <td>0</td>\n",
       "      <td>0</td>\n",
       "      <td>1</td>\n",
       "      <td>0</td>\n",
       "      <td>0</td>\n",
       "      <td>0</td>\n",
       "      <td>0</td>\n",
       "      <td>...</td>\n",
       "      <td>0</td>\n",
       "      <td>0</td>\n",
       "      <td>0</td>\n",
       "      <td>0</td>\n",
       "      <td>0</td>\n",
       "      <td>0</td>\n",
       "      <td>0</td>\n",
       "      <td>0</td>\n",
       "      <td>0</td>\n",
       "      <td>0</td>\n",
       "    </tr>\n",
       "    <tr>\n",
       "      <th>1</th>\n",
       "      <td>0</td>\n",
       "      <td>0</td>\n",
       "      <td>0</td>\n",
       "      <td>0</td>\n",
       "      <td>0</td>\n",
       "      <td>0</td>\n",
       "      <td>0</td>\n",
       "      <td>0</td>\n",
       "      <td>0</td>\n",
       "      <td>0</td>\n",
       "      <td>...</td>\n",
       "      <td>0</td>\n",
       "      <td>0</td>\n",
       "      <td>0</td>\n",
       "      <td>0</td>\n",
       "      <td>0</td>\n",
       "      <td>0</td>\n",
       "      <td>0</td>\n",
       "      <td>0</td>\n",
       "      <td>0</td>\n",
       "      <td>0</td>\n",
       "    </tr>\n",
       "    <tr>\n",
       "      <th>2</th>\n",
       "      <td>0</td>\n",
       "      <td>0</td>\n",
       "      <td>0</td>\n",
       "      <td>0</td>\n",
       "      <td>0</td>\n",
       "      <td>0</td>\n",
       "      <td>0</td>\n",
       "      <td>1</td>\n",
       "      <td>0</td>\n",
       "      <td>0</td>\n",
       "      <td>...</td>\n",
       "      <td>0</td>\n",
       "      <td>1</td>\n",
       "      <td>0</td>\n",
       "      <td>0</td>\n",
       "      <td>0</td>\n",
       "      <td>0</td>\n",
       "      <td>0</td>\n",
       "      <td>0</td>\n",
       "      <td>0</td>\n",
       "      <td>0</td>\n",
       "    </tr>\n",
       "    <tr>\n",
       "      <th>3</th>\n",
       "      <td>0</td>\n",
       "      <td>0</td>\n",
       "      <td>0</td>\n",
       "      <td>0</td>\n",
       "      <td>0</td>\n",
       "      <td>3</td>\n",
       "      <td>0</td>\n",
       "      <td>0</td>\n",
       "      <td>0</td>\n",
       "      <td>0</td>\n",
       "      <td>...</td>\n",
       "      <td>0</td>\n",
       "      <td>0</td>\n",
       "      <td>0</td>\n",
       "      <td>0</td>\n",
       "      <td>0</td>\n",
       "      <td>0</td>\n",
       "      <td>0</td>\n",
       "      <td>0</td>\n",
       "      <td>0</td>\n",
       "      <td>0</td>\n",
       "    </tr>\n",
       "    <tr>\n",
       "      <th>4</th>\n",
       "      <td>0</td>\n",
       "      <td>0</td>\n",
       "      <td>0</td>\n",
       "      <td>0</td>\n",
       "      <td>0</td>\n",
       "      <td>0</td>\n",
       "      <td>1</td>\n",
       "      <td>0</td>\n",
       "      <td>0</td>\n",
       "      <td>0</td>\n",
       "      <td>...</td>\n",
       "      <td>0</td>\n",
       "      <td>0</td>\n",
       "      <td>0</td>\n",
       "      <td>0</td>\n",
       "      <td>0</td>\n",
       "      <td>0</td>\n",
       "      <td>0</td>\n",
       "      <td>0</td>\n",
       "      <td>0</td>\n",
       "      <td>0</td>\n",
       "    </tr>\n",
       "  </tbody>\n",
       "</table>\n",
       "<p>5 rows × 3671 columns</p>\n",
       "</div>"
      ],
      "text/plain": [
       "   aan  aaron  abbreviations  abilities  abilitiestrack  ability  able  \\\n",
       "0    0      0              0          0               0        1     0   \n",
       "1    0      0              0          0               0        0     0   \n",
       "2    0      0              0          0               0        0     0   \n",
       "3    0      0              0          0               0        3     0   \n",
       "4    0      0              0          0               0        0     1   \n",
       "\n",
       "   abreast  absolutely  abstracts  ...  yesterday  york  youtube  zealous  \\\n",
       "0        0           0          0  ...          0     0        0        0   \n",
       "1        0           0          0  ...          0     0        0        0   \n",
       "2        1           0          0  ...          0     1        0        0   \n",
       "3        0           0          0  ...          0     0        0        0   \n",
       "4        0           0          0  ...          0     0        0        0   \n",
       "\n",
       "   zealously  zero  zinamoukheiber  zions  zip  zones  \n",
       "0          0     0               0      0    0      0  \n",
       "1          0     0               0      0    0      0  \n",
       "2          0     0               0      0    0      0  \n",
       "3          0     0               0      0    0      0  \n",
       "4          0     0               0      0    0      0  \n",
       "\n",
       "[5 rows x 3671 columns]"
      ]
     },
     "execution_count": 78,
     "metadata": {},
     "output_type": "execute_result"
    }
   ],
   "source": [
    "'''Converting sparse matrix into dense matrix and creating dataframe using get_feature_names as column headers'''\n",
    "dtm = pd.DataFrame(dtm.todense(), columns=vect.get_feature_names())\n",
    "dtm.head()"
   ]
  },
  {
   "cell_type": "markdown",
   "metadata": {
    "colab_type": "text",
    "id": "Zo1iH_UeY7_n"
   },
   "source": [
    "## 4) Visualize the most common word counts"
   ]
  },
  {
   "cell_type": "code",
   "execution_count": 79,
   "metadata": {
    "colab": {},
    "colab_type": "code",
    "id": "M5LB00uyZKV5"
   },
   "outputs": [],
   "source": [
    "##### Your Code Here #####\n",
    "def count(docs):\n",
    "\n",
    "        word_counts = Counter()\n",
    "        appears_in = Counter()\n",
    "        \n",
    "        total_docs = len(docs)\n",
    "\n",
    "        for doc in docs:\n",
    "            word_counts.update(doc)\n",
    "            appears_in.update(set(doc))\n",
    "\n",
    "        temp = zip(word_counts.keys(), word_counts.values())\n",
    "        \n",
    "        wc = pd.DataFrame(temp, columns = ['word', 'count'])\n",
    "\n",
    "        wc['rank'] = wc['count'].rank(method='first', ascending=False)\n",
    "        total = wc['count'].sum()\n",
    "\n",
    "        wc['pct_total'] = wc['count'].apply(lambda x: x / total)\n",
    "        \n",
    "        wc = wc.sort_values(by='rank')\n",
    "        wc['cul_pct_total'] = wc['pct_total'].cumsum()\n",
    "\n",
    "        t2 = zip(appears_in.keys(), appears_in.values())\n",
    "        ac = pd.DataFrame(t2, columns=['word', 'appears_in'])\n",
    "        wc = ac.merge(wc, on='word')\n",
    "\n",
    "        wc['appears_in_pct'] = wc['appears_in'].apply(lambda x: x / total_docs)\n",
    "        \n",
    "        return wc.sort_values(by='rank')"
   ]
  },
  {
   "cell_type": "code",
   "execution_count": 82,
   "metadata": {},
   "outputs": [
    {
     "data": {
      "image/png": "[encoded data removed]",
      "text/plain": [
       "<Figure size 936x936 with 1 Axes>"
      ]
     },
     "metadata": {
      "needs_background": "light"
     },
     "output_type": "display_data"
    }
   ],
   "source": [
    "wc = count(df['tokens'])\n",
    "wc.head()\n",
    "sns.barplot(x='count', y='word', data=(wc[wc['count'] > 150]))\n",
    "plt.title('Words used > 150 times in job description listings')\n",
    "fig_size = plt.rcParams[\"figure.figsize\"]\n",
    "fig_size[0] = 13\n",
    "fig_size[1] = 13"
   ]
  },
  {
   "cell_type": "markdown",
   "metadata": {
    "colab_type": "text",
    "id": "bwFsTqrVZMYi"
   },
   "source": [
    "## 5) Use Scikit-Learn's tfidfVectorizer to get a TF-IDF feature matrix"
   ]
  },
  {
   "cell_type": "code",
   "execution_count": 83,
   "metadata": {
    "colab": {},
    "colab_type": "code",
    "id": "-gx2gZCbl5Np"
   },
   "outputs": [],
   "source": [
    "##### Your Code Here #####\n",
    "# Instantiate vectorizer object\n",
    "tfidf = TfidfVectorizer(stop_words='english')\n",
    "\n",
    "# create list of text documents\n",
    "text = df['tokens'].astype(str)\n",
    "\n",
    "# Tokenize and build vocab\n",
    "vect.fit(text)\n",
    "\n",
    "# transform text to create feature matrix\n",
    "dtm = vect.transform(text)"
   ]
  },
  {
   "cell_type": "code",
   "execution_count": 84,
   "metadata": {},
   "outputs": [
    {
     "name": "stdout",
     "output_type": "stream",
     "text": [
      "  (0, 5)\t1\n",
      "  (0, 23)\t1\n",
      "  (0, 30)\t1\n",
      "  (0, 31)\t1\n",
      "  (0, 32)\t3\n",
      "  (0, 44)\t1\n",
      "  (0, 51)\t1\n",
      "  (0, 60)\t1\n",
      "  (0, 65)\t1\n",
      "  (0, 94)\t1\n",
      "  (0, 140)\t2\n",
      "  (0, 141)\t8\n",
      "  (0, 143)\t2\n",
      "  (0, 144)\t1\n",
      "  (0, 146)\t2\n",
      "  (0, 147)\t4\n",
      "  (0, 148)\t3\n",
      "  (0, 151)\t2\n",
      "  (0, 167)\t1\n",
      "  (0, 176)\t1\n",
      "  (0, 180)\t1\n",
      "  (0, 181)\t1\n",
      "  (0, 182)\t1\n",
      "  (0, 183)\t1\n",
      "  (0, 192)\t2\n",
      "  :\t:\n",
      "  (169, 3286)\t2\n",
      "  (169, 3295)\t1\n",
      "  (169, 3301)\t1\n",
      "  (169, 3303)\t1\n",
      "  (169, 3360)\t1\n",
      "  (169, 3419)\t1\n",
      "  (169, 3454)\t1\n",
      "  (169, 3475)\t1\n",
      "  (169, 3485)\t1\n",
      "  (169, 3488)\t1\n",
      "  (169, 3491)\t1\n",
      "  (169, 3507)\t1\n",
      "  (169, 3515)\t1\n",
      "  (169, 3541)\t1\n",
      "  (169, 3545)\t1\n",
      "  (169, 3558)\t1\n",
      "  (169, 3560)\t1\n",
      "  (169, 3582)\t1\n",
      "  (169, 3604)\t1\n",
      "  (169, 3609)\t1\n",
      "  (169, 3622)\t4\n",
      "  (169, 3637)\t1\n",
      "  (169, 3640)\t1\n",
      "  (169, 3642)\t1\n",
      "  (169, 3659)\t1\n"
     ]
    }
   ],
   "source": [
    "print(dtm)"
   ]
  },
  {
   "cell_type": "code",
   "execution_count": 85,
   "metadata": {},
   "outputs": [
    {
     "name": "stdout",
     "output_type": "stream",
     "text": [
      "TF-IDF Feature Matrix:\n"
     ]
    },
    {
     "data": {
      "text/html": [
       "<div>\n",
       "<style scoped>\n",
       "    .dataframe tbody tr th:only-of-type {\n",
       "        vertical-align: middle;\n",
       "    }\n",
       "\n",
       "    .dataframe tbody tr th {\n",
       "        vertical-align: top;\n",
       "    }\n",
       "\n",
       "    .dataframe thead th {\n",
       "        text-align: right;\n",
       "    }\n",
       "</style>\n",
       "<table border=\"1\" class=\"dataframe\">\n",
       "  <thead>\n",
       "    <tr style=\"text-align: right;\">\n",
       "      <th></th>\n",
       "      <th>aan</th>\n",
       "      <th>aaron</th>\n",
       "      <th>abbreviations</th>\n",
       "      <th>abilities</th>\n",
       "      <th>abilitiestrack</th>\n",
       "      <th>ability</th>\n",
       "      <th>able</th>\n",
       "      <th>abreast</th>\n",
       "      <th>absolutely</th>\n",
       "      <th>abstracts</th>\n",
       "      <th>...</th>\n",
       "      <th>yesterday</th>\n",
       "      <th>york</th>\n",
       "      <th>youtube</th>\n",
       "      <th>zealous</th>\n",
       "      <th>zealously</th>\n",
       "      <th>zero</th>\n",
       "      <th>zinamoukheiber</th>\n",
       "      <th>zions</th>\n",
       "      <th>zip</th>\n",
       "      <th>zones</th>\n",
       "    </tr>\n",
       "  </thead>\n",
       "  <tbody>\n",
       "    <tr>\n",
       "      <th>0</th>\n",
       "      <td>0</td>\n",
       "      <td>0</td>\n",
       "      <td>0</td>\n",
       "      <td>0</td>\n",
       "      <td>0</td>\n",
       "      <td>1</td>\n",
       "      <td>0</td>\n",
       "      <td>0</td>\n",
       "      <td>0</td>\n",
       "      <td>0</td>\n",
       "      <td>...</td>\n",
       "      <td>0</td>\n",
       "      <td>0</td>\n",
       "      <td>0</td>\n",
       "      <td>0</td>\n",
       "      <td>0</td>\n",
       "      <td>0</td>\n",
       "      <td>0</td>\n",
       "      <td>0</td>\n",
       "      <td>0</td>\n",
       "      <td>0</td>\n",
       "    </tr>\n",
       "    <tr>\n",
       "      <th>1</th>\n",
       "      <td>0</td>\n",
       "      <td>0</td>\n",
       "      <td>0</td>\n",
       "      <td>0</td>\n",
       "      <td>0</td>\n",
       "      <td>0</td>\n",
       "      <td>0</td>\n",
       "      <td>0</td>\n",
       "      <td>0</td>\n",
       "      <td>0</td>\n",
       "      <td>...</td>\n",
       "      <td>0</td>\n",
       "      <td>0</td>\n",
       "      <td>0</td>\n",
       "      <td>0</td>\n",
       "      <td>0</td>\n",
       "      <td>0</td>\n",
       "      <td>0</td>\n",
       "      <td>0</td>\n",
       "      <td>0</td>\n",
       "      <td>0</td>\n",
       "    </tr>\n",
       "    <tr>\n",
       "      <th>2</th>\n",
       "      <td>0</td>\n",
       "      <td>0</td>\n",
       "      <td>0</td>\n",
       "      <td>0</td>\n",
       "      <td>0</td>\n",
       "      <td>0</td>\n",
       "      <td>0</td>\n",
       "      <td>1</td>\n",
       "      <td>0</td>\n",
       "      <td>0</td>\n",
       "      <td>...</td>\n",
       "      <td>0</td>\n",
       "      <td>1</td>\n",
       "      <td>0</td>\n",
       "      <td>0</td>\n",
       "      <td>0</td>\n",
       "      <td>0</td>\n",
       "      <td>0</td>\n",
       "      <td>0</td>\n",
       "      <td>0</td>\n",
       "      <td>0</td>\n",
       "    </tr>\n",
       "    <tr>\n",
       "      <th>3</th>\n",
       "      <td>0</td>\n",
       "      <td>0</td>\n",
       "      <td>0</td>\n",
       "      <td>0</td>\n",
       "      <td>0</td>\n",
       "      <td>3</td>\n",
       "      <td>0</td>\n",
       "      <td>0</td>\n",
       "      <td>0</td>\n",
       "      <td>0</td>\n",
       "      <td>...</td>\n",
       "      <td>0</td>\n",
       "      <td>0</td>\n",
       "      <td>0</td>\n",
       "      <td>0</td>\n",
       "      <td>0</td>\n",
       "      <td>0</td>\n",
       "      <td>0</td>\n",
       "      <td>0</td>\n",
       "      <td>0</td>\n",
       "      <td>0</td>\n",
       "    </tr>\n",
       "    <tr>\n",
       "      <th>4</th>\n",
       "      <td>0</td>\n",
       "      <td>0</td>\n",
       "      <td>0</td>\n",
       "      <td>0</td>\n",
       "      <td>0</td>\n",
       "      <td>0</td>\n",
       "      <td>1</td>\n",
       "      <td>0</td>\n",
       "      <td>0</td>\n",
       "      <td>0</td>\n",
       "      <td>...</td>\n",
       "      <td>0</td>\n",
       "      <td>0</td>\n",
       "      <td>0</td>\n",
       "      <td>0</td>\n",
       "      <td>0</td>\n",
       "      <td>0</td>\n",
       "      <td>0</td>\n",
       "      <td>0</td>\n",
       "      <td>0</td>\n",
       "      <td>0</td>\n",
       "    </tr>\n",
       "  </tbody>\n",
       "</table>\n",
       "<p>5 rows × 3671 columns</p>\n",
       "</div>"
      ],
      "text/plain": [
       "   aan  aaron  abbreviations  abilities  abilitiestrack  ability  able  \\\n",
       "0    0      0              0          0               0        1     0   \n",
       "1    0      0              0          0               0        0     0   \n",
       "2    0      0              0          0               0        0     0   \n",
       "3    0      0              0          0               0        3     0   \n",
       "4    0      0              0          0               0        0     1   \n",
       "\n",
       "   abreast  absolutely  abstracts  ...  yesterday  york  youtube  zealous  \\\n",
       "0        0           0          0  ...          0     0        0        0   \n",
       "1        0           0          0  ...          0     0        0        0   \n",
       "2        1           0          0  ...          0     1        0        0   \n",
       "3        0           0          0  ...          0     0        0        0   \n",
       "4        0           0          0  ...          0     0        0        0   \n",
       "\n",
       "   zealously  zero  zinamoukheiber  zions  zip  zones  \n",
       "0          0     0               0      0    0      0  \n",
       "1          0     0               0      0    0      0  \n",
       "2          0     0               0      0    0      0  \n",
       "3          0     0               0      0    0      0  \n",
       "4          0     0               0      0    0      0  \n",
       "\n",
       "[5 rows x 3671 columns]"
      ]
     },
     "execution_count": 85,
     "metadata": {},
     "output_type": "execute_result"
    }
   ],
   "source": [
    "# create pandas dataframe using sparse matrix above and get_feature_names as columns\n",
    "dtm = pd.DataFrame(dtm.todense(), columns=vect.get_feature_names())\n",
    "print('TF-IDF Feature Matrix:')\n",
    "dtm.head()"
   ]
  },
  {
   "cell_type": "markdown",
   "metadata": {},
   "source": [
    "## 6) Create a NearestNeighbor Model. Write the description of your ideal datascience job and query your job listings. "
   ]
  },
  {
   "cell_type": "code",
   "execution_count": 86,
   "metadata": {
    "collapsed": false,
    "inputHidden": false,
    "jupyter": {
     "outputs_hidden": false
    },
    "outputHidden": false
   },
   "outputs": [
    {
     "data": {
      "text/plain": [
       "NearestNeighbors(algorithm='ball_tree', leaf_size=30, metric='minkowski',\n",
       "         metric_params=None, n_jobs=None, n_neighbors=5, p=2, radius=1.0)"
      ]
     },
     "execution_count": 86,
     "metadata": {},
     "output_type": "execute_result"
    }
   ],
   "source": [
    "##### Your Code Here #####\n",
    "from sklearn.neighbors import NearestNeighbors\n",
    "\n",
    "#Instantiate NearestNeighbors model\n",
    "nn = NearestNeighbors(n_neighbors=5, algorithm='ball_tree')\n",
    "# Fit NN model to TF-IDF feature matrix\n",
    "nn.fit(dtm)"
   ]
  },
  {
   "cell_type": "code",
   "execution_count": 87,
   "metadata": {},
   "outputs": [],
   "source": [
    "ideal_job = ['''\n",
    "Looking for a data science job where I can continue to learn and grow professionally.\n",
    "Where I can apply machine learning and artificial intelligence algorithms to provide\n",
    "solutions to common problems efficiently. Specifically, a place where neural networks\n",
    "are built to analyze big imaging data. Biotech company with Competitive pay. \n",
    "I aim to work at a place where teamwork and collaboration are valued. \n",
    "I aim to build and apply convolutional neural networks for biological image analysis, \n",
    "and to use big data and statistics to engineer solutions to common problems in society\n",
    "''']"
   ]
  },
  {
   "cell_type": "code",
   "execution_count": 88,
   "metadata": {},
   "outputs": [],
   "source": [
    "new = vect.transform(ideal_job)\n",
    "a = nn.kneighbors(new.todense())"
   ]
  },
  {
   "cell_type": "code",
   "execution_count": 89,
   "metadata": {},
   "outputs": [
    {
     "data": {
      "text/plain": [
       "(array([[ 8.88819442, 13.60147051, 13.60147051, 13.7113092 , 14.03566885]]),\n",
       " array([[10, 68, 36,  6, 22]]))"
      ]
     },
     "execution_count": 89,
     "metadata": {},
     "output_type": "execute_result"
    }
   ],
   "source": [
    "a[0:2]"
   ]
  },
  {
   "cell_type": "code",
   "execution_count": 94,
   "metadata": {},
   "outputs": [
    {
     "name": "stdout",
     "output_type": "stream",
     "text": [
      "Help design, develop and implement software to enhance Synoptic’s data access, storage, analytics and data mining capabilities. Other tasks may include enhancing the data API for geospatial scientific data or to design and develop applications to facilitate large data acquisition and dissemination using cloud computing services.\n",
      "\n",
      "Minimum requirements: B.S. degree with computer programming experience related to solving scientific computing problems involving large data sets. Preferred: Familiarity with several of the following data integration and systems development technologies: Python, relational databases, API development and methodologies, software version control, cloud computing services. Candidate must be self-driven, accountable under minimal supervision to reach project goals, and comfortable working in a research environment with other employees locally and remotely. Salary commensurate with experience. Employment location is with the Synoptic staff in Salt Lake City, UT.\n",
      "Resumes can be submitted to jobs@synopticdata.com.\n"
     ]
    }
   ],
   "source": [
    "print(df['description'].iloc[22])"
   ]
  },
  {
   "cell_type": "markdown",
   "metadata": {
    "colab_type": "text",
    "id": "FiDfTWceoRkH"
   },
   "source": [
    "## Stretch Goals\n",
    "\n",
    " - Try different visualizations for words and frequencies - what story do you want to tell with the data?\n",
    " - Scrape Job Listings for the job title \"Data Analyst\". How do these differ from Data Scientist Job Listings\n",
    " - Try and identify requirements for experience specific technologies that are asked for in the job listings. How are those distributed among the job listings?\n",
    " - Use a clustering algorithm to cluster documents by their most important terms. Do the clusters reveal any common themes?\n",
    "  - **Hint:** K-means might not be the best algorithm for this. Do a little bit of research to see what might be good for this. Also, remember that algorithms that depend on Euclidean distance break down with high dimensional data.\n",
    " - Create a labeled dataset - which jobs will you apply for? Train a model to select the jobs you are most likely to apply for. :) "
   ]
  }
 ],
 "metadata": {
  "colab": {
   "collapsed_sections": [],
   "name": "LS_DS_422_BOW_Assignment.ipynb",
   "provenance": [],
   "version": "0.3.2"
  },
  "kernel_info": {
   "name": "python3"
  },
  "kernelspec": {
   "display_name": "U4-S1-NLP (Python3)",
   "language": "python",
   "name": "u4-s1-nlp"
  },
  "language_info": {
   "codemirror_mode": {
    "name": "ipython",
    "version": 3
   },
   "file_extension": ".py",
   "mimetype": "text/x-python",
   "name": "python",
   "nbconvert_exporter": "python",
   "pygments_lexer": "ipython3",
   "version": "3.7.4"
  },
  "nteract": {
   "version": "0.14.3"
  }
 },
 "nbformat": 4,
 "nbformat_minor": 4
}
